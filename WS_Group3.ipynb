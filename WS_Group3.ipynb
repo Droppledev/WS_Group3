{
  "nbformat": 4,
  "nbformat_minor": 0,
  "metadata": {
    "colab": {
      "name": "WS_Group3.ipynb",
      "provenance": [],
      "toc_visible": true,
      "collapsed_sections": []
    },
    "kernelspec": {
      "name": "python3",
      "display_name": "Python 3"
    },
    "language_info": {
      "name": "python"
    }
  },
  "cells": [
    {
      "cell_type": "code",
      "execution_count": null,
      "metadata": {
        "id": "g54bkU8os4uI"
      },
      "outputs": [],
      "source": [
        "# import library"
      ]
    },
    {
      "cell_type": "code",
      "source": [
        "# keyword for scraping\n",
        "keyword = []"
      ],
      "metadata": {
        "id": "tGUb0s0MtqTt"
      },
      "execution_count": null,
      "outputs": []
    },
    {
      "cell_type": "code",
      "source": [
        "# scrape from twitter by keyword, take last 7 days"
      ],
      "metadata": {
        "id": "SQChD3extycf"
      },
      "execution_count": null,
      "outputs": []
    },
    {
      "cell_type": "code",
      "source": [
        "# preprocess keyword with tokenization, text normalization, stop-words removal, etc"
      ],
      "metadata": {
        "id": "QzZJwLCgt6IM"
      },
      "execution_count": null,
      "outputs": []
    },
    {
      "cell_type": "code",
      "source": [
        "# basic analysis\n",
        "## count posts, count accounts"
      ],
      "metadata": {
        "id": "G9kEakPkuUwe"
      },
      "execution_count": null,
      "outputs": []
    },
    {
      "cell_type": "code",
      "source": [
        "# wordcloud from keywords per region/area/national"
      ],
      "metadata": {
        "id": "wyj2yPxyvEvE"
      },
      "execution_count": null,
      "outputs": []
    },
    {
      "cell_type": "code",
      "source": [
        "# sentiment analysis (positive, neutral, negative) per region/area/national"
      ],
      "metadata": {
        "id": "9Ps3X3tTupqG"
      },
      "execution_count": null,
      "outputs": []
    },
    {
      "cell_type": "code",
      "source": [
        "# influencer analysis (?) by count of follower, post retweet, post like"
      ],
      "metadata": {
        "id": "n5JeDnv1v7gI"
      },
      "execution_count": null,
      "outputs": []
    }
  ]
}